{
  "nbformat": 4,
  "nbformat_minor": 0,
  "metadata": {
    "colab": {
      "name": "basic_numpy.ipynb",
      "provenance": [],
      "collapsed_sections": []
    },
    "kernelspec": {
      "name": "python3",
      "display_name": "Python 3"
    },
    "language_info": {
      "name": "python"
    }
  },
  "cells": [
    {
      "cell_type": "markdown",
      "metadata": {
        "id": "_RZnYHvkF2wL"
      },
      "source": [
        "# Exercícios:\n",
        "https://www.ic.unicamp.br/~sandra/pdf/class/2018-1/mc102/2018-05-11-MC102KLMN-Aula19.pdf\n",
        "\n",
        "\n",
        "* Escreva um programa que leia todas as posições de uma matriz 10x10. O programa deve então exibir o número de posições **Não Nulas** da matriz\n"
      ]
    },
    {
      "cell_type": "code",
      "metadata": {
        "id": "-r-7jJoKFrf0"
      },
      "source": [
        "matriz = [[0, 0, 0, 0, 0, 0, 0, 0, 0, 1],\n",
        "          [0, 0, 0, 0, 0, 0, 0, 0, 0, 2],\n",
        "          [0, 0, 0, 0, 0, 0, 0, 0, 0, 3],\n",
        "          [0, 0, 0, 0, 0, 0, 0, 0, 0, 4],\n",
        "          [0, 0, 0, 0, 0, 0, 0, 0, 0, 5],\n",
        "          [0, 0, 0, 0, 0, 0, 0, 0, 0, 6],\n",
        "          [0, 0, 0, 0, 0, 0, 0, 0, 0, 7],\n",
        "          [0, 0, 0, 0, 0, 0, 0, 0, 0, 8],\n",
        "          [0, 0, 0, 0, 0, 0, 0, 0, 0, 9],\n",
        "          [0, 0, 0, 0, 0, 0, 0, 0, 0, 10],]"
      ],
      "execution_count": 144,
      "outputs": []
    },
    {
      "cell_type": "code",
      "metadata": {
        "colab": {
          "base_uri": "https://localhost:8080/"
        },
        "id": "NCEadLnXGPY_",
        "outputId": "3369f109-692c-4369-e6d2-cd35eb9b1f70"
      },
      "source": [
        "import numpy as np\n",
        "np_array = np.array(matriz)\n",
        "np_array[np_array > 0].size"
      ],
      "execution_count": 145,
      "outputs": [
        {
          "output_type": "execute_result",
          "data": {
            "text/plain": [
              "10"
            ]
          },
          "metadata": {
            "tags": []
          },
          "execution_count": 145
        }
      ]
    },
    {
      "cell_type": "markdown",
      "metadata": {
        "id": "BsFYdFcVHiQ6"
      },
      "source": [
        "Uma pista de Kart permite 10 voltas para cada um de 6 corredores.\n",
        "Faça um programa que leia os nomes e os tempos (em segundos) de\n",
        "cada volta de cada corredor e guarde as informações em uma matriz. Ao final, o programa deve informar:\n",
        "\n",
        "\n",
        "1.   De quem foi a melhor volta da prova, e em que volta\n",
        "2.   Classificação final em orderm crescente\n",
        "3.   Qual foi a volta com a média mais rápida\n",
        "\n"
      ]
    },
    {
      "cell_type": "code",
      "metadata": {
        "id": "ZeEtIy3xHy2p"
      },
      "source": [
        "dataset = [[92, 102, 120, 103, 95, 96, 104, 104, 91, 101],\n",
        "           [93, 100, 130, 103, 98, 93, 105, 105, 96, 102],\n",
        "           [94, 120, 113, 103, 96, 97, 109, 106, 93, 103],\n",
        "           [89, 107, 112, 103, 91, 91, 111, 107, 92, 104],\n",
        "           [98, 122, 115, 103, 92, 93, 101, 108, 94, 105],\n",
        "           [102, 112, 112, 103, 87, 95, 110, 109, 98, 100]]\n",
        "nomes = ['Corredor 1', 'Corredor 2', 'Corredor 3', 'Corredor 4', 'Corredor 5', 'Corredor 6']"
      ],
      "execution_count": 146,
      "outputs": []
    },
    {
      "cell_type": "code",
      "metadata": {
        "id": "bnwi7uB8JcCq"
      },
      "source": [
        "np_ds = np.array(dataset)"
      ],
      "execution_count": 147,
      "outputs": []
    },
    {
      "cell_type": "code",
      "metadata": {
        "id": "mYcXgHAtJqW6",
        "outputId": "4551d868-ebd1-4174-bf1c-5ab7e18adda8",
        "colab": {
          "base_uri": "https://localhost:8080/"
        }
      },
      "source": [
        "location = np.where(np_ds == np_ds.min())\n",
        "print(f'A melhor volta foi do: {nomes[location[0][0]]} , na volta: {location[1][0] + 1}')"
      ],
      "execution_count": 148,
      "outputs": [
        {
          "output_type": "stream",
          "text": [
            "A melhor volta foi do: Corredor 6 , na volta: 5\n"
          ],
          "name": "stdout"
        }
      ]
    },
    {
      "cell_type": "code",
      "metadata": {
        "id": "X_yXaAowKS-2",
        "outputId": "b9da2b16-ea7d-4772-fa49-3c7b16ae8159",
        "colab": {
          "base_uri": "https://localhost:8080/"
        }
      },
      "source": [
        "ds_list = np_ds.copy().mean(axis=1).reshape((6 , 1)).tolist()\n",
        "\n",
        "for i in range(len(ds_list)):\n",
        "  ds_list[i].append(nomes[i])\n",
        "\n",
        "ds_list.sort()\n",
        "\n",
        "# Lista de None no final que não sei o motivo\n",
        "# Por isso usei o underscore, pois quero somente exibir o resultdo\n",
        "_ = [print(item[1]) for item in ds_list]"
      ],
      "execution_count": 149,
      "outputs": [
        {
          "output_type": "stream",
          "text": [
            "Corredor 4\n",
            "Corredor 1\n",
            "Corredor 2\n",
            "Corredor 6\n",
            "Corredor 5\n",
            "Corredor 3\n"
          ],
          "name": "stdout"
        }
      ]
    },
    {
      "cell_type": "code",
      "metadata": {
        "colab": {
          "base_uri": "https://localhost:8080/"
        },
        "id": "TFSmEECJM8iA",
        "outputId": "6f072e04-6439-43bf-8a67-203276468187"
      },
      "source": [
        "volta_com_media_mais_rapida = np.where(np_ds.mean(axis=0) == np_ds.mean(axis=0).min())\n",
        "print(f'A volta média mais rápida foi a : { volta_com_media_mais_rapida[0] + 1 }')"
      ],
      "execution_count": 150,
      "outputs": [
        {
          "output_type": "stream",
          "text": [
            "A volta média mais rápida foi a : [5]\n"
          ],
          "name": "stdout"
        }
      ]
    }
  ]
}